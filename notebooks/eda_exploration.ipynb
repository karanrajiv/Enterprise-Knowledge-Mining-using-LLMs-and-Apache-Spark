{
 "cells": [
  {
   "cell_type": "markdown",
   "id": "5e0ec7de",
   "metadata": {},
   "source": [
    "# 🧠 EDA Exploration for Document Embeddings"
   ]
  },
  {
   "cell_type": "code",
   "execution_count": null,
   "id": "f52068d6",
   "metadata": {},
   "outputs": [],
   "source": [
    "import pickle\n",
    "import numpy as np\n",
    "import matplotlib.pyplot as plt\n",
    "from sklearn.metrics.pairwise import cosine_similarity\n",
    "import seaborn as sns\n",
    "import pandas as pd\n",
    "\n",
    "# Load the embeddings and document chunks\n",
    "with open('../embeddings/embeddings.pkl', 'rb') as f:\n",
    "    embeddings = pickle.load(f)\n",
    "\n",
    "with open('../embeddings/doc_chunks.pkl', 'rb') as f:\n",
    "    doc_chunks = pickle.load(f)\n",
    "\n",
    "# Convert to numpy array\n",
    "embedding_matrix = np.array(embeddings)\n",
    "\n",
    "print(f\"Loaded {len(embedding_matrix)} embeddings with dimension {embedding_matrix.shape[1]}\")\n"
   ]
  },
  {
   "cell_type": "markdown",
   "id": "649106e4",
   "metadata": {},
   "source": [
    "## 📊 Embedding Distribution & Dimensionality"
   ]
  },
  {
   "cell_type": "code",
   "execution_count": null,
   "id": "ccd94089",
   "metadata": {},
   "outputs": [],
   "source": [
    "# Show the distribution of values in a few dimensions\n",
    "plt.figure(figsize=(12, 6))\n",
    "for i in range(min(5, embedding_matrix.shape[1])):\n",
    "    sns.histplot(embedding_matrix[:, i], kde=True, bins=30, label=f'Dim {i+1}')\n",
    "plt.title(\"Distribution of Embedding Values Across Dimensions\")\n",
    "plt.xlabel(\"Value\")\n",
    "plt.ylabel(\"Frequency\")\n",
    "plt.legend()\n",
    "plt.show()\n"
   ]
  },
  {
   "cell_type": "markdown",
   "id": "5f443db7",
   "metadata": {},
   "source": [
    "## 🔍 Cosine Similarity Matrix"
   ]
  },
  {
   "cell_type": "code",
   "execution_count": null,
   "id": "7b7cbedb",
   "metadata": {},
   "outputs": [],
   "source": [
    "# Compute pairwise cosine similarity\n",
    "similarity_matrix = cosine_similarity(embedding_matrix)\n",
    "\n",
    "# Display a heatmap of the similarities for a subset\n",
    "subset_size = min(20, similarity_matrix.shape[0])\n",
    "plt.figure(figsize=(10, 8))\n",
    "sns.heatmap(similarity_matrix[:subset_size, :subset_size], cmap=\"coolwarm\", annot=False)\n",
    "plt.title(\"Cosine Similarity Matrix (Top 20 Chunks)\")\n",
    "plt.show()\n"
   ]
  },
  {
   "cell_type": "markdown",
   "id": "19af5b3f",
   "metadata": {},
   "source": [
    "## 🧩 Inspect Most Similar Document Chunks"
   ]
  },
  {
   "cell_type": "code",
   "execution_count": null,
   "id": "749c940b",
   "metadata": {},
   "outputs": [],
   "source": [
    "# Find the most similar pair of different chunks\n",
    "np.fill_diagonal(similarity_matrix, 0)\n",
    "max_sim_idx = np.unravel_index(np.argmax(similarity_matrix), similarity_matrix.shape)\n",
    "print(f\"Most similar pair: Chunk {max_sim_idx[0]} and Chunk {max_sim_idx[1]}\")\n",
    "print(\"\\n--- Chunk 1 ---\\n\")\n",
    "print(doc_chunks[max_sim_idx[0]])\n",
    "print(\"\\n--- Chunk 2 ---\\n\")\n",
    "print(doc_chunks[max_sim_idx[1]])\n",
    "print(f\"Cosine Similarity: {similarity_matrix[max_sim_idx]:.4f}\")\n"
   ]
  },
  {
   "cell_type": "markdown",
   "id": "bbacd89c",
   "metadata": {},
   "source": [
    "## 📈 Embedding Norm Distribution"
   ]
  },
  {
   "cell_type": "code",
   "execution_count": null,
   "id": "7b149141",
   "metadata": {},
   "outputs": [],
   "source": [
    "# Compute L2 norm of each embedding\n",
    "embedding_norms = np.linalg.norm(embedding_matrix, axis=1)\n",
    "\n",
    "# Plot distribution\n",
    "plt.figure(figsize=(8, 4))\n",
    "sns.histplot(embedding_norms, kde=True, bins=30)\n",
    "plt.title(\"L2 Norm Distribution of Embeddings\")\n",
    "plt.xlabel(\"Norm\")\n",
    "plt.ylabel(\"Frequency\")\n",
    "plt.show()\n"
   ]
  }
 ],
 "metadata": {},
 "nbformat": 4,
 "nbformat_minor": 5
}
